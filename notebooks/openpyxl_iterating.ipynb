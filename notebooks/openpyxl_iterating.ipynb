{
 "cells": [
  {
   "cell_type": "markdown",
   "metadata": {},
   "source": [
    "## Openpyxl - Iterating\n",
    "\n",
    "* Iterating through\n",
    "* Convert data into dict\n",
    "* Convert data into Python class (dataclass)"
   ]
  },
  {
   "cell_type": "code",
   "execution_count": null,
   "metadata": {},
   "outputs": [],
   "source": [
    "import datetime\n",
    "from dataclasses import dataclass, asdict\n",
    "import json\n",
    "\n",
    "import openpyxl"
   ]
  },
  {
   "cell_type": "code",
   "execution_count": null,
   "metadata": {},
   "outputs": [],
   "source": [
    "fn = '../data/iris_short.xlsx'\n",
    "\n",
    "wb = openpyxl.load_workbook(filename=fn)"
   ]
  },
  {
   "cell_type": "code",
   "execution_count": null,
   "metadata": {},
   "outputs": [],
   "source": [
    "wb.sheetnames"
   ]
  },
  {
   "cell_type": "code",
   "execution_count": null,
   "metadata": {},
   "outputs": [],
   "source": [
    "# default way of opening a spreadsheet\n",
    "ws = wb.active"
   ]
  },
  {
   "cell_type": "code",
   "execution_count": null,
   "metadata": {},
   "outputs": [],
   "source": [
    "ws.title"
   ]
  },
  {
   "cell_type": "markdown",
   "metadata": {},
   "source": [
    "* retrieve data"
   ]
  },
  {
   "cell_type": "code",
   "execution_count": null,
   "metadata": {},
   "outputs": [],
   "source": [
    "#1\n",
    "ws[\"A1\"]"
   ]
  },
  {
   "cell_type": "code",
   "execution_count": null,
   "metadata": {},
   "outputs": [],
   "source": [
    "ws[\"A1\"].value"
   ]
  },
  {
   "cell_type": "code",
   "execution_count": null,
   "metadata": {},
   "outputs": [],
   "source": [
    "#2\n",
    "# note: with spreadsheet, you will see one-indexed notation\n",
    "ws.cell(row=1, column=1)"
   ]
  },
  {
   "cell_type": "code",
   "execution_count": null,
   "metadata": {},
   "outputs": [],
   "source": [
    "ws.cell(row=1, column=1).value"
   ]
  },
  {
   "cell_type": "raw",
   "metadata": {},
   "source": [
    "# additional reading options\n",
    "read_only\n",
    "data_only"
   ]
  },
  {
   "cell_type": "markdown",
   "metadata": {},
   "source": [
    "### Iterating Through the Data\n",
    "* slice\n",
    "* get ranges\n",
    "* generators\n",
    "    * .iter_rows()\n",
    "    * .iter_cols()"
   ]
  },
  {
   "cell_type": "markdown",
   "metadata": {},
   "source": [
    "#### slice"
   ]
  },
  {
   "cell_type": "code",
   "execution_count": null,
   "metadata": {},
   "outputs": [],
   "source": [
    "# equivalent to pandas shape\n",
    "ws.dimensions"
   ]
  },
  {
   "cell_type": "code",
   "execution_count": null,
   "metadata": {},
   "outputs": [],
   "source": [
    "ws[\"A1:C3\"]"
   ]
  },
  {
   "cell_type": "code",
   "execution_count": null,
   "metadata": {},
   "outputs": [],
   "source": [
    "ws[\"A1\":\"C3\"]"
   ]
  },
  {
   "cell_type": "code",
   "execution_count": null,
   "metadata": {},
   "outputs": [],
   "source": [
    "ws[\"A1:C3\"] == ws[\"A1\":\"C3\"]"
   ]
  },
  {
   "cell_type": "markdown",
   "metadata": {},
   "source": [
    "#### ranges"
   ]
  },
  {
   "cell_type": "code",
   "execution_count": null,
   "metadata": {
    "scrolled": true
   },
   "outputs": [],
   "source": [
    "# get all cells from column A\n",
    "ws[\"A\"]"
   ]
  },
  {
   "cell_type": "code",
   "execution_count": null,
   "metadata": {
    "scrolled": true
   },
   "outputs": [],
   "source": [
    "# get all cells for a range of columns\n",
    "ws[\"A:B\"]"
   ]
  },
  {
   "cell_type": "code",
   "execution_count": null,
   "metadata": {},
   "outputs": [],
   "source": [
    "# get all cells from a single row\n",
    "ws[1]"
   ]
  },
  {
   "cell_type": "code",
   "execution_count": null,
   "metadata": {
    "scrolled": true
   },
   "outputs": [],
   "source": [
    "# get all cells for a range of rows\n",
    "ws[1:4]"
   ]
  },
  {
   "cell_type": "markdown",
   "metadata": {},
   "source": [
    "#### Generators"
   ]
  },
  {
   "cell_type": "code",
   "execution_count": null,
   "metadata": {},
   "outputs": [],
   "source": [
    "# iterating through rows, get one tuple per row selected\n",
    "# additional arg Boolean values_only\n",
    "\n",
    "for row in ws.iter_rows(min_row=1,\n",
    "                        max_row=4,\n",
    "                        min_col=1,\n",
    "                        max_col=4,\n",
    "                        # values_only=True,\n",
    "                       ):\n",
    "    print(row)"
   ]
  },
  {
   "cell_type": "code",
   "execution_count": null,
   "metadata": {},
   "outputs": [],
   "source": [
    "# iterating through cols, get one tuple per col selected\n",
    "# additional arg Boolean values_only\n",
    "\n",
    "for col in ws.iter_cols(min_row=1,\n",
    "                        max_row=4,\n",
    "                        min_col=1,\n",
    "                        max_col=4,\n",
    "                        # values_only=True,\n",
    "                       ):\n",
    "    print(col)"
   ]
  },
  {
   "cell_type": "markdown",
   "metadata": {},
   "source": [
    "#### iterating rough the whole dataset\n",
    "(shortcuts to using .iter_rows() and .iter_cols() without any arguments)\n",
    "* .rows\n",
    "* .columns"
   ]
  },
  {
   "cell_type": "code",
   "execution_count": null,
   "metadata": {
    "scrolled": true
   },
   "outputs": [],
   "source": [
    "for row in ws.rows:\n",
    "    print(row)"
   ]
  },
  {
   "cell_type": "code",
   "execution_count": null,
   "metadata": {
    "scrolled": true
   },
   "outputs": [],
   "source": [
    "for col in ws.columns:\n",
    "    print(col)"
   ]
  },
  {
   "cell_type": "markdown",
   "metadata": {},
   "source": [
    "### Manipulate data using Python's default data structures\n",
    "\n",
    "The result from all iterators is in the form of tuples --> transform it into other data structure"
   ]
  },
  {
   "cell_type": "markdown",
   "metadata": {},
   "source": [
    "* transform tuples to dict\n",
    "\n",
    "iterate over all the rows, pick the columns, and then store that in a dict"
   ]
  },
  {
   "cell_type": "code",
   "execution_count": null,
   "metadata": {},
   "outputs": [],
   "source": [
    "ws.dimensions"
   ]
  },
  {
   "cell_type": "code",
   "execution_count": null,
   "metadata": {},
   "outputs": [],
   "source": [
    "# header values\n",
    "for value in ws.iter_rows(min_row=1,\n",
    "                          max_row=1,\n",
    "                          values_only=True):\n",
    "    print(value)"
   ]
  },
  {
   "cell_type": "code",
   "execution_count": null,
   "metadata": {},
   "outputs": [],
   "source": [
    "# row values\n",
    "for value in ws.iter_rows(min_row=2,\n",
    "                          min_col=1,\n",
    "                          max_col=5,\n",
    "                          values_only=True):\n",
    "    print(value)"
   ]
  },
  {
   "cell_type": "markdown",
   "metadata": {},
   "source": [
    "### Convert data into dict"
   ]
  },
  {
   "cell_type": "raw",
   "metadata": {},
   "source": [
    "# wh\n",
    "\n",
    "def iter_row_vals(ws, min_row, ...):\n",
    "    for row in ws.iter_rows(min_row, ...):\n",
    "        row_values = [c.value for c in row]\n",
    "        if all(c is not None for c in row_values):\n",
    "            yield row_values\n",
    "            \n",
    "def iter_dicts(ws, min_row, ...):\n",
    "    row_iter = iter_row_vals(ws, min_row, ...)\n",
    "    raw_header_values = next(row_iter)\n",
    "    try:\n",
    "        first_blank = raw_header_values.index(None)\n",
    "        header_values = raw_header_values[:first_blank]\n",
    "    except ValueError:\n",
    "        header_values = raw_header_values\n",
    "    for row_values in row_iter:\n",
    "        combined = zip(header_values, row_values)\n",
    "        row_dict = dict(combined)\n",
    "        yield row_dict\n",
    "        \n",
    "all_my_data_as_dicts = list(iter_dicts(ws, min_row, ...))"
   ]
  },
  {
   "cell_type": "code",
   "execution_count": null,
   "metadata": {},
   "outputs": [],
   "source": [
    "# generate row_values\n",
    "\n",
    "def iter_row_vals(ws, min_row, max_row, min_col, max_col):\n",
    "    for row in ws.iter_rows(\n",
    "        min_row, max_row, min_col, max_col\n",
    "    ):\n",
    "        row_values = [c.value for c in row]\n",
    "        if all(c is not None for c in row_values):\n",
    "            yield row_values"
   ]
  },
  {
   "cell_type": "code",
   "execution_count": null,
   "metadata": {},
   "outputs": [],
   "source": [
    "row_values = iter_row_vals(\n",
    "    ws, min_row=1, max_row=5, min_col=1, max_col=5\n",
    ")"
   ]
  },
  {
   "cell_type": "code",
   "execution_count": null,
   "metadata": {},
   "outputs": [],
   "source": [
    "row_values"
   ]
  },
  {
   "cell_type": "code",
   "execution_count": null,
   "metadata": {},
   "outputs": [],
   "source": [
    "list(row_values)"
   ]
  },
  {
   "cell_type": "markdown",
   "metadata": {},
   "source": [
    "* example for built-in index"
   ]
  },
  {
   "cell_type": "code",
   "execution_count": null,
   "metadata": {},
   "outputs": [],
   "source": [
    "hv = ['sepal_length', 'sepal_width', 'petal_length', 'petal_width', 'species', None, None, None]"
   ]
  },
  {
   "cell_type": "code",
   "execution_count": null,
   "metadata": {},
   "outputs": [],
   "source": [
    "# index of the first occurrence of None\n",
    "hv.index(None)"
   ]
  },
  {
   "cell_type": "code",
   "execution_count": null,
   "metadata": {},
   "outputs": [],
   "source": [
    "# generate header_values and row_values (all list)\n",
    "\n",
    "def iter_dicts(ws, min_row, max_row, min_col, max_col):\n",
    "    row_iter = iter_row_vals(ws, min_row, max_row, min_col, max_col)\n",
    "    raw_header_values = next(row_iter)\n",
    "    try:\n",
    "        # index of the first occurrence of None \n",
    "        first_blank = raw_header_values.index(None)\n",
    "        header_values = raw_header_values[:first_blank]\n",
    "    except ValueError:\n",
    "        header_values = raw_header_values\n",
    "    for row_values in row_iter:\n",
    "        combined = zip(header_values, row_values)\n",
    "        row_dict = dict(combined)\n",
    "        yield row_dict"
   ]
  },
  {
   "cell_type": "code",
   "execution_count": null,
   "metadata": {},
   "outputs": [],
   "source": [
    "all_my_data_as_dicts = list(\n",
    "    iter_dicts(\n",
    "        ws, min_row=1, max_row=5, min_col=1, max_col=5,\n",
    "    )\n",
    ")"
   ]
  },
  {
   "cell_type": "code",
   "execution_count": null,
   "metadata": {},
   "outputs": [],
   "source": [
    "all_my_data_as_dicts"
   ]
  },
  {
   "cell_type": "markdown",
   "metadata": {},
   "source": [
    "### Convert data into Python classes"
   ]
  },
  {
   "cell_type": "code",
   "execution_count": null,
   "metadata": {},
   "outputs": [],
   "source": [
    "# field (zero indexed)\n",
    "SEPAL_LENGTH = 0\n",
    "SEPAL_WIDTH = 1\n",
    "PETAL_LENGTH = 2\n",
    "PETAL_WIDTH = 3\n",
    "SPECIES = 4"
   ]
  },
  {
   "cell_type": "code",
   "execution_count": null,
   "metadata": {},
   "outputs": [],
   "source": [
    "# good for fixed format (precise format)\n",
    "\n",
    "@dataclass\n",
    "class Iris:\n",
    "    \"\"\"class for keeping track of an items\"\"\"\n",
    "    sepal_length: float\n",
    "    sepal_width: float\n",
    "    petal_length: float\n",
    "    petal_width: float\n",
    "    species: str"
   ]
  },
  {
   "cell_type": "code",
   "execution_count": null,
   "metadata": {},
   "outputs": [],
   "source": [
    "iris_list = []\n",
    "\n",
    "for row in ws.iter_rows(min_row=2,\n",
    "                        max_row=5,\n",
    "                        values_only=True):\n",
    "    iris_obj = Iris(sepal_length=row[SEPAL_LENGTH],\n",
    "                    sepal_width=row[SEPAL_WIDTH],\n",
    "                    petal_length=row[PETAL_LENGTH],\n",
    "                    petal_width=row[PETAL_WIDTH],\n",
    "                    species=row[SPECIES])\n",
    "    iris_list.append(iris_obj)"
   ]
  },
  {
   "cell_type": "code",
   "execution_count": null,
   "metadata": {},
   "outputs": [],
   "source": [
    "iris_list"
   ]
  },
  {
   "cell_type": "code",
   "execution_count": null,
   "metadata": {},
   "outputs": [],
   "source": [
    "iris_list[0]"
   ]
  },
  {
   "cell_type": "code",
   "execution_count": null,
   "metadata": {},
   "outputs": [],
   "source": [
    "# TODO: Convert the dataclass instances to a dict"
   ]
  },
  {
   "cell_type": "code",
   "execution_count": null,
   "metadata": {},
   "outputs": [],
   "source": []
  }
 ],
 "metadata": {
  "kernelspec": {
   "display_name": "Python 3",
   "language": "python",
   "name": "python3"
  },
  "language_info": {
   "codemirror_mode": {
    "name": "ipython",
    "version": 3
   },
   "file_extension": ".py",
   "mimetype": "text/x-python",
   "name": "python",
   "nbconvert_exporter": "python",
   "pygments_lexer": "ipython3",
   "version": "3.7.6"
  }
 },
 "nbformat": 4,
 "nbformat_minor": 4
}
