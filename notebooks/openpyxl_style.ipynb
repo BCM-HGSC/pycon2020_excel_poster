{
 "cells": [
  {
   "cell_type": "markdown",
   "metadata": {},
   "source": [
    "## Openpyxl Styles"
   ]
  },
  {
   "cell_type": "markdown",
   "metadata": {},
   "source": [
    "* change background color of the tab holding the title\n",
    "\n",
    "https://www.rapidtables.com/web/color/html-color-codes.html"
   ]
  },
  {
   "cell_type": "code",
   "execution_count": null,
   "metadata": {},
   "outputs": [],
   "source": [
    "import openpyxl\n",
    "\n",
    "# Import necessary style classes\n",
    "from openpyxl.styles import Font, Color, Alignment, Border, Side, colors\n",
    "from openpyxl.styles import PatternFill, GradientFill, NamedStyle\n",
    "\n",
    "from openpyxl.comments import Comment"
   ]
  },
  {
   "cell_type": "code",
   "execution_count": null,
   "metadata": {},
   "outputs": [],
   "source": [
    "fn = '../data/iris_short_2.xlsx'"
   ]
  },
  {
   "cell_type": "code",
   "execution_count": null,
   "metadata": {},
   "outputs": [],
   "source": [
    "wb = openpyxl.load_workbook(fn)\n",
    "wb.sheetnames"
   ]
  },
  {
   "cell_type": "code",
   "execution_count": null,
   "metadata": {},
   "outputs": [],
   "source": [
    "ws = wb.active\n",
    "ws"
   ]
  },
  {
   "cell_type": "code",
   "execution_count": null,
   "metadata": {},
   "outputs": [],
   "source": [
    "ws2 = wb['Sheet2']"
   ]
  },
  {
   "cell_type": "code",
   "execution_count": null,
   "metadata": {},
   "outputs": [],
   "source": [
    "ws2.dimensions"
   ]
  },
  {
   "cell_type": "markdown",
   "metadata": {},
   "source": [
    "* Create a few styles"
   ]
  },
  {
   "cell_type": "code",
   "execution_count": null,
   "metadata": {},
   "outputs": [],
   "source": [
    "bold_font = Font(bold=True)\n",
    "big_red_text = Font(color='FF80FF', name='Bradley Hand', size=20)\n",
    "center_aligned_text = Alignment(horizontal=\"center\")\n",
    "double_border_side = Side(border_style=\"double\")\n",
    "square_border = Border(top=double_border_side,\n",
    "                        right=double_border_side,\n",
    "                        bottom=double_border_side,\n",
    "                        left=double_border_side)"
   ]
  },
  {
   "cell_type": "markdown",
   "metadata": {},
   "source": [
    "* Add comment"
   ]
  },
  {
   "cell_type": "code",
   "execution_count": null,
   "metadata": {},
   "outputs": [],
   "source": [
    "add_comment = Comment(text=\"My comment\", author=\"Author's Name\")"
   ]
  },
  {
   "cell_type": "markdown",
   "metadata": {},
   "source": [
    " * Style some cells"
   ]
  },
  {
   "cell_type": "code",
   "execution_count": null,
   "metadata": {},
   "outputs": [],
   "source": [
    "ws2[\"A2\"].font = bold_font\n",
    "ws2[\"A3\"].font = big_red_text\n",
    "ws2[\"A4\"].alignment = center_aligned_text\n",
    "ws2[\"A5\"].border = square_border\n",
    "ws2[\"B2\"].comment = add_comment"
   ]
  },
  {
   "cell_type": "markdown",
   "metadata": {},
   "source": [
    "* Change row/column dimensions"
   ]
  },
  {
   "cell_type": "code",
   "execution_count": null,
   "metadata": {},
   "outputs": [],
   "source": [
    "ws2.row_dimensions[2].height = 70\n",
    "ws2.column_dimensions['B'].width = 20"
   ]
  },
  {
   "cell_type": "markdown",
   "metadata": {},
   "source": [
    "* Change cell fill color"
   ]
  },
  {
   "cell_type": "code",
   "execution_count": null,
   "metadata": {},
   "outputs": [],
   "source": [
    "# RGB (light to dark)\n",
    "\n",
    "lightyellow_fill_color = PatternFill(\"solid\", fgColor=\"FFFFE6\")\n",
    "cream_fill_color = PatternFill(\"solid\", fgColor=\"FFFFCC\")\n",
    "blond_fill_color = PatternFill(\"solid\", fgColor=\"FFFFB3\")\n",
    "pastel_fill_color = PatternFill(\"solid\", fgColor=\"FFFF80\")\n",
    "unmellowyellow_fill_color = PatternFill(\"solid\", fgColor=\"FFFF66\")\n",
    "yellow_fill_color = PatternFill(\"solid\", fgColor=\"FFFF33\")\n",
    "electricyellow_fill_color = PatternFill(\"solid\", fgColor=\"FFFF00\")\n",
    "\n",
    "ws2['D2'].fill = lightyellow_fill_color\n",
    "ws2['C3'].fill = pastel_fill_color\n",
    "ws2['D4'].fill = yellow_fill_color\n",
    "ws2['C5'].fill = electricyellow_fill_color"
   ]
  },
  {
   "cell_type": "markdown",
   "metadata": {},
   "source": [
    "* Tab color for worksheet"
   ]
  },
  {
   "cell_type": "code",
   "execution_count": null,
   "metadata": {},
   "outputs": [],
   "source": [
    "ws2.sheet_properties.tabColor = \"1072BA\"  # blue?"
   ]
  },
  {
   "cell_type": "markdown",
   "metadata": {},
   "source": [
    "* Create a style template for the header row"
   ]
  },
  {
   "cell_type": "code",
   "execution_count": null,
   "metadata": {},
   "outputs": [],
   "source": [
    "header = NamedStyle(name=\"header\")\n",
    "header.font = Font(bold=True)\n",
    "header.border = Border(bottom=Side(border_style=\"thin\"))\n",
    "header.alignment = Alignment(horizontal=\"center\", vertical=\"center\")"
   ]
  },
  {
   "cell_type": "markdown",
   "metadata": {},
   "source": [
    "* Apply this to all first row (header) cells"
   ]
  },
  {
   "cell_type": "code",
   "execution_count": null,
   "metadata": {},
   "outputs": [],
   "source": [
    "header_row = ws2[1]\n",
    "for cell in header_row:\n",
    "     cell.style = header"
   ]
  },
  {
   "cell_type": "markdown",
   "metadata": {},
   "source": [
    "* Many more style options\n",
    "\n",
    "https://realpython.com/openpyxl-excel-spreadsheets-python/#adding-styles"
   ]
  },
  {
   "cell_type": "markdown",
   "metadata": {},
   "source": [
    "* Save workbook"
   ]
  },
  {
   "cell_type": "code",
   "execution_count": null,
   "metadata": {},
   "outputs": [],
   "source": [
    "fo = '../data/out/openpyxl_style_out.xlsx'\n",
    "\n",
    "wb.save(fo)"
   ]
  },
  {
   "cell_type": "code",
   "execution_count": null,
   "metadata": {},
   "outputs": [],
   "source": [
    "# !open ../data/out/openpyxl_style_out.xlsx"
   ]
  },
  {
   "cell_type": "code",
   "execution_count": null,
   "metadata": {},
   "outputs": [],
   "source": []
  }
 ],
 "metadata": {
  "kernelspec": {
   "display_name": "Python 3",
   "language": "python",
   "name": "python3"
  },
  "language_info": {
   "codemirror_mode": {
    "name": "ipython",
    "version": 3
   },
   "file_extension": ".py",
   "mimetype": "text/x-python",
   "name": "python",
   "nbconvert_exporter": "python",
   "pygments_lexer": "ipython3",
   "version": "3.7.6"
  }
 },
 "nbformat": 4,
 "nbformat_minor": 4
}
