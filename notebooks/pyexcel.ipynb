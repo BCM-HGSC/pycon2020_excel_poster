{
 "cells": [
  {
   "cell_type": "markdown",
   "metadata": {},
   "source": [
    "## pyexcel\n",
    "\n",
    "http://docs.pyexcel.org/en/latest/\n",
    "\n",
    "https://github.com/pyexcel/pyexcel\n",
    "\n",
    "For individual excel file formats, you will need to install the external plugins\n",
    "\n",
    "https://github.com/pyexcel/pyexcel-xls\n",
    "\n",
    "https://github.com/pyexcel/pyexcel-xlsxw\n",
    "\n",
    "https://github.com/pyexcel/pyexcel-xlsx\n",
    "\n",
    "https://github.com/pyexcel/pyexcel-htmlr"
   ]
  },
  {
   "cell_type": "code",
   "execution_count": null,
   "metadata": {},
   "outputs": [],
   "source": [
    "# install plugins\n",
    "# No longer, explicit import is needed since pyexcel version 0.2.2. \n",
    "# Instead, this library is auto-loaded. So if you want to read data in xlsx format, installing it is enough.\n",
    "\n",
    "# pip install pyexcel-xls\n",
    "# pip install pyexcel-xlsx\n",
    "# pip install pyexcel-htmlr"
   ]
  },
  {
   "cell_type": "code",
   "execution_count": null,
   "metadata": {},
   "outputs": [],
   "source": [
    "import numpy as np\n",
    "import json\n",
    "\n",
    "import pyexcel as pe\n",
    "from pyexcel._compact import OrderedDict"
   ]
  },
  {
   "cell_type": "code",
   "execution_count": null,
   "metadata": {},
   "outputs": [],
   "source": [
    "fn = '../data/iris_short.xlsx'\n",
    "fn2 = '../data/iris_short_2.xlsx'"
   ]
  },
  {
   "cell_type": "markdown",
   "metadata": {},
   "source": [
    "### Sheet: Data conversion"
   ]
  },
  {
   "cell_type": "markdown",
   "metadata": {},
   "source": [
    "* records from an excel data"
   ]
  },
  {
   "cell_type": "code",
   "execution_count": null,
   "metadata": {},
   "outputs": [],
   "source": [
    "# generator (list of dict)\n",
    "records = pe.get_records(file_name=fn)"
   ]
  },
  {
   "cell_type": "code",
   "execution_count": null,
   "metadata": {},
   "outputs": [],
   "source": [
    "type(records)"
   ]
  },
  {
   "cell_type": "code",
   "execution_count": null,
   "metadata": {},
   "outputs": [],
   "source": [
    "for record in records:\n",
    "    print(record)"
   ]
  },
  {
   "cell_type": "markdown",
   "metadata": {},
   "source": [
    "* save an python array as an excel file"
   ]
  },
  {
   "cell_type": "code",
   "execution_count": null,
   "metadata": {},
   "outputs": [],
   "source": [
    "# np array (can use python array)\n",
    "data = np.array([['col_1', 'col_2', 'col_3'], [1, 2, 3], [4, 5, 6], [7, 8, 9]])"
   ]
  },
  {
   "cell_type": "code",
   "execution_count": null,
   "metadata": {},
   "outputs": [],
   "source": [
    "data"
   ]
  },
  {
   "cell_type": "code",
   "execution_count": null,
   "metadata": {},
   "outputs": [],
   "source": [
    "type(data)"
   ]
  },
  {
   "cell_type": "code",
   "execution_count": null,
   "metadata": {
    "scrolled": true
   },
   "outputs": [],
   "source": [
    "fo = '../data/out/pe_array_out.xlsx'\n",
    "\n",
    "pe.save_as(array=data, dest_file_name=fo)"
   ]
  },
  {
   "cell_type": "code",
   "execution_count": null,
   "metadata": {},
   "outputs": [],
   "source": [
    "# !open ../data/out/pe_array_out.xlsx"
   ]
  },
  {
   "cell_type": "markdown",
   "metadata": {},
   "source": [
    "* Let's verify it"
   ]
  },
  {
   "cell_type": "code",
   "execution_count": null,
   "metadata": {
    "scrolled": true
   },
   "outputs": [],
   "source": [
    "# installing pyexcel-htmlr fixed AttributeError('Sheet' object does not have html attribute)\n",
    "\n",
    "sheet = pe.get_sheet(file_name=fo, name_columns_by_row=0)\n",
    "sheet"
   ]
  },
  {
   "cell_type": "markdown",
   "metadata": {},
   "source": [
    "#### Read sheet as a dict"
   ]
  },
  {
   "cell_type": "code",
   "execution_count": null,
   "metadata": {},
   "outputs": [],
   "source": [
    "d1 = sheet.to_dict()\n",
    "d1"
   ]
  },
  {
   "cell_type": "code",
   "execution_count": null,
   "metadata": {},
   "outputs": [],
   "source": [
    "isinstance(d1, OrderedDict)"
   ]
  },
  {
   "cell_type": "markdown",
   "metadata": {},
   "source": [
    "#### Get dict from Excel sheet"
   ]
  },
  {
   "cell_type": "code",
   "execution_count": null,
   "metadata": {},
   "outputs": [],
   "source": [
    "# TODO: how many sheets, sheetnames?"
   ]
  },
  {
   "cell_type": "code",
   "execution_count": null,
   "metadata": {},
   "outputs": [],
   "source": [
    "# fg\n",
    "\n",
    "# Get dict from single sheet\n",
    "ws_dict = pe.get_dict(\n",
    "    file_name=fn,\n",
    "    name_columns_by_row=0,\n",
    ")\n",
    "\n",
    "for k, v in ws_dict.items():\n",
    "    print({str(k): v})"
   ]
  },
  {
   "cell_type": "code",
   "execution_count": null,
   "metadata": {},
   "outputs": [],
   "source": [
    "isinstance(ws_dict, OrderedDict)"
   ]
  },
  {
   "cell_type": "markdown",
   "metadata": {},
   "source": [
    "#### Get dict from multiple sheet book"
   ]
  },
  {
   "cell_type": "code",
   "execution_count": null,
   "metadata": {},
   "outputs": [],
   "source": [
    "# fg\n",
    "\n",
    "# Get dict from multiple sheet book\n",
    "wb_dict = pe.get_book_dict(file_name=fn2)\n",
    "\n",
    "for k, item in wb_dict.items():\n",
    "    print(json.dumps({k: item}))"
   ]
  },
  {
   "cell_type": "code",
   "execution_count": null,
   "metadata": {},
   "outputs": [],
   "source": [
    "isinstance(wb_dict, OrderedDict)"
   ]
  },
  {
   "cell_type": "code",
   "execution_count": null,
   "metadata": {},
   "outputs": [],
   "source": [
    "# TODO: use dataclass from here on..."
   ]
  },
  {
   "cell_type": "markdown",
   "metadata": {},
   "source": [
    "* pe.get_array\n",
    "\n",
    "https://github.com/BCM-HGSC/meta_weaver/blob/master/meta_weaver/hiseqx_versions.py"
   ]
  },
  {
   "cell_type": "code",
   "execution_count": null,
   "metadata": {},
   "outputs": [],
   "source": [
    "import pyexcel as pe\n",
    "\n",
    "xlsx_path = '../data/iris_short.xlsx'\n",
    "\n",
    "def get_array_from_xlsx(xlsx_path):\n",
    "    \"\"\"Given an xlsx file, this function \n",
    "    loads the file and converts into a list of lists\"\"\"\n",
    "    if xlsx_path.endswith(\".xlsx\"):\n",
    "        list_of_lists = pe.get_array(\n",
    "            file_name=xlsx_path\n",
    "        )  # all values are strings except datetime\n",
    "        \n",
    "    else:\n",
    "        raise SystemExit(\"Incorrect file format\")\n",
    "    return list_of_lists"
   ]
  },
  {
   "cell_type": "code",
   "execution_count": null,
   "metadata": {},
   "outputs": [],
   "source": [
    "list_of_lists = get_array_from_xlsx(xlsx_path)"
   ]
  },
  {
   "cell_type": "code",
   "execution_count": null,
   "metadata": {},
   "outputs": [],
   "source": [
    "list_of_lists"
   ]
  },
  {
   "cell_type": "code",
   "execution_count": null,
   "metadata": {},
   "outputs": [],
   "source": [
    "list_of_lists = pe.get_array(file_name=fn)\n",
    "list_of_lists"
   ]
  },
  {
   "cell_type": "code",
   "execution_count": null,
   "metadata": {},
   "outputs": [],
   "source": [
    "# fg\n",
    "\n",
    "import json\n",
    "import pyexcel as pe\n",
    "\n",
    "fn = \"../data/iris_short.xlsx\"\n",
    "fn2 = \"../data/iris_short_2.xlsx\"\n",
    "\n",
    "# Get array (list of lists) from Excel\n",
    "pe.get_array(file_name=fn)"
   ]
  },
  {
   "cell_type": "code",
   "execution_count": null,
   "metadata": {},
   "outputs": [],
   "source": []
  }
 ],
 "metadata": {
  "kernelspec": {
   "display_name": "Python 3",
   "language": "python",
   "name": "python3"
  },
  "language_info": {
   "codemirror_mode": {
    "name": "ipython",
    "version": 3
   },
   "file_extension": ".py",
   "mimetype": "text/x-python",
   "name": "python",
   "nbconvert_exporter": "python",
   "pygments_lexer": "ipython3",
   "version": "3.7.6"
  }
 },
 "nbformat": 4,
 "nbformat_minor": 4
}
