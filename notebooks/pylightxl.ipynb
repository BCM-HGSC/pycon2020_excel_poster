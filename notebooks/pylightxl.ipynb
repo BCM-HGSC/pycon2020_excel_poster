{
 "cells": [
  {
   "cell_type": "markdown",
   "metadata": {},
   "source": [
    "# pylightxl\n",
    "\n",
    "https://pylightxl.readthedocs.io/en/latest/"
   ]
  },
  {
   "cell_type": "code",
   "execution_count": null,
   "metadata": {},
   "outputs": [],
   "source": [
    "import pylightxl as xl"
   ]
  },
  {
   "cell_type": "code",
   "execution_count": null,
   "metadata": {},
   "outputs": [],
   "source": [
    "# dir(xl)"
   ]
  },
  {
   "cell_type": "code",
   "execution_count": null,
   "metadata": {},
   "outputs": [],
   "source": [
    "import sys\n",
    "sys.version"
   ]
  },
  {
   "cell_type": "markdown",
   "metadata": {},
   "source": [
    "### iris_short_2 dataset"
   ]
  },
  {
   "cell_type": "markdown",
   "metadata": {},
   "source": [
    "### Read Excel File"
   ]
  },
  {
   "cell_type": "code",
   "execution_count": null,
   "metadata": {},
   "outputs": [],
   "source": [
    "fn = \"../data/iris_short_2.xlsx\""
   ]
  },
  {
   "cell_type": "code",
   "execution_count": null,
   "metadata": {},
   "outputs": [],
   "source": [
    "# readxl returns a pylightxl database that holds all worksheets and its data\n",
    "db1= xl.readxl(fn)"
   ]
  },
  {
   "cell_type": "code",
   "execution_count": null,
   "metadata": {},
   "outputs": [],
   "source": [
    "# return all sheetnames\n",
    "tuple(db1.ws_names)"
   ]
  },
  {
   "cell_type": "code",
   "execution_count": null,
   "metadata": {},
   "outputs": [],
   "source": [
    "# read only selective sheetnames\n",
    "\n",
    "db2 = xl.readxl(fn=fn, sheetnames=('Sheet1',))\n",
    "db3 = xl.readxl(fn, sheetnames=('Sheet1','Sheet2'))  # bug fixed in 1.41\n",
    "db4 = xl.readxl(fn, sheetnames=tuple(db1.ws_names))"
   ]
  },
  {
   "cell_type": "code",
   "execution_count": null,
   "metadata": {},
   "outputs": [],
   "source": [
    "# return all sheetnames\n",
    "db2.ws_names"
   ]
  },
  {
   "cell_type": "code",
   "execution_count": null,
   "metadata": {},
   "outputs": [],
   "source": [
    "# dir(db1)"
   ]
  },
  {
   "cell_type": "markdown",
   "metadata": {},
   "source": [
    "### Access Worksheet and Cell Data"
   ]
  },
  {
   "cell_type": "markdown",
   "metadata": {},
   "source": [
    "* access by worksheet name (tab name) and cell address"
   ]
  },
  {
   "cell_type": "code",
   "execution_count": null,
   "metadata": {},
   "outputs": [],
   "source": [
    "db1.ws('Sheet1').address('A1')"
   ]
  },
  {
   "cell_type": "markdown",
   "metadata": {},
   "source": [
    "* access by worksheet name (tab name) and cell index"
   ]
  },
  {
   "cell_type": "code",
   "execution_count": null,
   "metadata": {},
   "outputs": [],
   "source": [
    "db1.ws('Sheet1').index(row=2, col=2)"
   ]
  },
  {
   "cell_type": "markdown",
   "metadata": {},
   "source": [
    "* access an entire row/col (note: empty cells as returned as\")"
   ]
  },
  {
   "cell_type": "code",
   "execution_count": null,
   "metadata": {},
   "outputs": [],
   "source": [
    "db1.ws('Sheet1').row(2)  # row values start at 2"
   ]
  },
  {
   "cell_type": "code",
   "execution_count": null,
   "metadata": {},
   "outputs": [],
   "source": [
    "db1.ws('Sheet1').col(1) # col starts at 1"
   ]
  },
  {
   "cell_type": "markdown",
   "metadata": {},
   "source": [
    "* get an entire row/col based on key-value (note: key is type sensitive)"
   ]
  },
  {
   "cell_type": "code",
   "execution_count": null,
   "metadata": {},
   "outputs": [],
   "source": [
    "# return column that has a cell value is sepal_length in row 1 (default)\n",
    "db1.ws('Sheet1').keycol(key='sepal_length')"
   ]
  },
  {
   "cell_type": "code",
   "execution_count": null,
   "metadata": {},
   "outputs": [],
   "source": [
    "# specify a custom keyindex (not just row1)\n",
    "db1.ws('Sheet1').keycol(key=5.1, keyindex=2)"
   ]
  },
  {
   "cell_type": "code",
   "execution_count": null,
   "metadata": {},
   "outputs": [],
   "source": [
    "# specify a custom keyrow\n",
    "db1.ws('Sheet1').keyrow(key=5.1)"
   ]
  },
  {
   "cell_type": "markdown",
   "metadata": {},
   "source": [
    "* get the size of worksheet"
   ]
  },
  {
   "cell_type": "code",
   "execution_count": null,
   "metadata": {},
   "outputs": [],
   "source": [
    "db1.ws('Sheet1').size"
   ]
  },
  {
   "cell_type": "markdown",
   "metadata": {},
   "source": [
    "### Iterate through rows/cols"
   ]
  },
  {
   "cell_type": "code",
   "execution_count": null,
   "metadata": {},
   "outputs": [],
   "source": [
    "for row in db1.ws('Sheet1').rows:\n",
    "    print(row)"
   ]
  },
  {
   "cell_type": "code",
   "execution_count": null,
   "metadata": {
    "scrolled": true
   },
   "outputs": [],
   "source": [
    "for col in db1.ws('Sheet1').cols:\n",
    "    print(col)"
   ]
  },
  {
   "cell_type": "markdown",
   "metadata": {},
   "source": [
    "### Reading Semi Structured data"
   ]
  },
  {
   "cell_type": "code",
   "execution_count": null,
   "metadata": {},
   "outputs": [],
   "source": [
    "fn2 = \"../data/Book1.xlsx\""
   ]
  },
  {
   "cell_type": "code",
   "execution_count": null,
   "metadata": {},
   "outputs": [],
   "source": [
    "db = xl.readxl(fn2, sheetnames=('Sheet1',))"
   ]
  },
  {
   "cell_type": "code",
   "execution_count": null,
   "metadata": {},
   "outputs": [],
   "source": [
    "db.ws_names"
   ]
  },
  {
   "cell_type": "code",
   "execution_count": null,
   "metadata": {},
   "outputs": [],
   "source": [
    "db.ws('Sheet1').rows"
   ]
  },
  {
   "cell_type": "code",
   "execution_count": null,
   "metadata": {},
   "outputs": [],
   "source": [
    "for r_idx, row in enumerate(db.ws('Sheet1').rows, 1):\n",
    "    print(r_idx, row)"
   ]
  },
  {
   "cell_type": "markdown",
   "metadata": {},
   "source": [
    "### Solution"
   ]
  },
  {
   "cell_type": "markdown",
   "metadata": {},
   "source": [
    "* row indices"
   ]
  },
  {
   "cell_type": "code",
   "execution_count": null,
   "metadata": {},
   "outputs": [],
   "source": [
    "KEY = 'val1'\n",
    "\n",
    "# pull out all the row indices where data groups start\n",
    "keyrows = [r_idx for r_idx, row in enumerate(db.ws('Sheet1').rows, 1) if KEY in row]"
   ]
  },
  {
   "cell_type": "code",
   "execution_count": null,
   "metadata": {},
   "outputs": [],
   "source": [
    "# row indices\n",
    "keyrows"
   ]
  },
  {
   "cell_type": "code",
   "execution_count": null,
   "metadata": {},
   "outputs": [],
   "source": [
    "keyrows[0]"
   ]
  },
  {
   "cell_type": "code",
   "execution_count": null,
   "metadata": {},
   "outputs": [],
   "source": [
    "keyrows[1]"
   ]
  },
  {
   "cell_type": "code",
   "execution_count": null,
   "metadata": {},
   "outputs": [],
   "source": [
    "db.ws('Sheet1')"
   ]
  },
  {
   "cell_type": "code",
   "execution_count": null,
   "metadata": {},
   "outputs": [],
   "source": [
    "# group1\n",
    "db.ws('Sheet1').row(keyrows[0])"
   ]
  },
  {
   "cell_type": "code",
   "execution_count": null,
   "metadata": {},
   "outputs": [],
   "source": [
    "# col index for group1\n",
    "db.ws('Sheet1').row(keyrows[0]).index(KEY) + 1"
   ]
  },
  {
   "cell_type": "code",
   "execution_count": null,
   "metadata": {},
   "outputs": [],
   "source": [
    "# group2\n",
    "db.ws('Sheet1').row(keyrows[1])"
   ]
  },
  {
   "cell_type": "code",
   "execution_count": null,
   "metadata": {},
   "outputs": [],
   "source": [
    "# col index for group2\n",
    "db.ws('Sheet1').row(keyrows[1]).index(KEY) + 1"
   ]
  },
  {
   "cell_type": "markdown",
   "metadata": {},
   "source": [
    "* column indices"
   ]
  },
  {
   "cell_type": "code",
   "execution_count": null,
   "metadata": {},
   "outputs": [],
   "source": [
    "# find the column indices where data groups start\n",
    "\n",
    "keycols = []\n",
    "for keyrow in keyrows:\n",
    "    # add +1 since Python index starts from 0\n",
    "    keycols.append(db.ws('Sheet1').row(keyrow).index(KEY) + 1)\n",
    "    \n",
    "print(keycols)"
   ]
  },
  {
   "cell_type": "code",
   "execution_count": null,
   "metadata": {},
   "outputs": [],
   "source": [
    "# checking table 1\n",
    "db.ws('Sheet1').row(keyrows[0])[0]"
   ]
  },
  {
   "cell_type": "code",
   "execution_count": null,
   "metadata": {},
   "outputs": [],
   "source": [
    "# checking table 2\n",
    "db.ws('Sheet1').row(keyrows[1])[1]"
   ]
  },
  {
   "cell_type": "markdown",
   "metadata": {},
   "source": [
    "* datagroups (dict)"
   ]
  },
  {
   "cell_type": "code",
   "execution_count": null,
   "metadata": {},
   "outputs": [],
   "source": [
    "# define a dict to hold your data groups\n",
    "datagroups = {}\n",
    "\n",
    "# populate datatables\n",
    "for t_idx, keyrow in enumerate(keyrows,1):\n",
    "    i = 0\n",
    "    # data groups: keys are group IDs starting from 1, list: list of data rows (ie: val1, val2...)\n",
    "    datagroups.update({t_idx: []})\n",
    "    while True:\n",
    "        # pull out the current group row of data, and remove leading cells with keycols\n",
    "        datarow = db.ws('Sheet1').row(keyrow + i)[keycols[t_idx-1]:]\n",
    "        # check if the current row is still part of the datagroup\n",
    "        if datarow[0] == '':\n",
    "            # current row is empty and is no longer part of the data group\n",
    "            break\n",
    "        datagroups[t_idx].append(datarow)\n",
    "        i += 1"
   ]
  },
  {
   "cell_type": "code",
   "execution_count": null,
   "metadata": {},
   "outputs": [],
   "source": [
    "datagroups"
   ]
  },
  {
   "cell_type": "code",
   "execution_count": null,
   "metadata": {},
   "outputs": [],
   "source": [
    "type(datagroups)"
   ]
  },
  {
   "cell_type": "code",
   "execution_count": null,
   "metadata": {},
   "outputs": [],
   "source": [
    "print(datagroups.keys())"
   ]
  },
  {
   "cell_type": "code",
   "execution_count": null,
   "metadata": {},
   "outputs": [],
   "source": [
    "print(datagroups.values())"
   ]
  },
  {
   "cell_type": "code",
   "execution_count": null,
   "metadata": {},
   "outputs": [],
   "source": [
    "print(datagroups[1])"
   ]
  },
  {
   "cell_type": "code",
   "execution_count": null,
   "metadata": {},
   "outputs": [],
   "source": [
    "print(datagroups[2])"
   ]
  },
  {
   "cell_type": "code",
   "execution_count": null,
   "metadata": {},
   "outputs": [],
   "source": [
    "print(datagroups.items())"
   ]
  },
  {
   "cell_type": "markdown",
   "metadata": {},
   "source": [
    "* Code snippet"
   ]
  },
  {
   "cell_type": "code",
   "execution_count": null,
   "metadata": {},
   "outputs": [],
   "source": [
    "# fg\n",
    "\n",
    "import pylightxl as xl\n",
    "\n",
    "db = xl.readxl(\"../data/Book1.xlsx\")\n",
    "\n",
    "keyrows = [\n",
    "    rowID\n",
    "    for rowID, row in enumerate(db.ws(\"Sheet1\").rows, 1)\n",
    "    if \"val1\" in row\n",
    "]\n",
    "\n",
    "keycols = []\n",
    "for keyrow in keyrows:\n",
    "\n",
    "    keycols.append(\n",
    "        db.ws(\"Sheet1\").row(keyrow).index(\"val1\") + 1\n",
    "    )"
   ]
  },
  {
   "cell_type": "code",
   "execution_count": null,
   "metadata": {},
   "outputs": [],
   "source": [
    "# fg\n",
    "\n",
    "datagroups = {}\n",
    "\n",
    "for tableIndex, keyrow in enumerate(keyrows, 1):\n",
    "    i = 0\n",
    "    datagroups.update({tableIndex: []})\n",
    "    while True:\n",
    "        datarow = db.ws(\"Sheet1\").row(keyrow + i)[\n",
    "            keycols[tableIndex - 1] :\n",
    "        ]\n",
    "        if datarow[0] == \"\":\n",
    "            break\n",
    "        datagroups[tableIndex].append(datarow)\n",
    "        i += 1"
   ]
  },
  {
   "cell_type": "code",
   "execution_count": null,
   "metadata": {},
   "outputs": [],
   "source": [
    "print(datagroups[1])\n",
    "print(datagroups[2])"
   ]
  },
  {
   "cell_type": "code",
   "execution_count": null,
   "metadata": {},
   "outputs": [],
   "source": []
  }
 ],
 "metadata": {
  "kernelspec": {
   "display_name": "Python 3",
   "language": "python",
   "name": "python3"
  },
  "language_info": {
   "codemirror_mode": {
    "name": "ipython",
    "version": 3
   },
   "file_extension": ".py",
   "mimetype": "text/x-python",
   "name": "python",
   "nbconvert_exporter": "python",
   "pygments_lexer": "ipython3",
   "version": "3.7.6"
  }
 },
 "nbformat": 4,
 "nbformat_minor": 4
}
