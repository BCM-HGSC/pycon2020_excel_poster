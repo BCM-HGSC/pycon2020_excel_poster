{
 "cells": [
  {
   "cell_type": "markdown",
   "metadata": {},
   "source": [
    "# xlrd\n",
    "\n",
    "https://xlrd.readthedocs.io/en/latest/"
   ]
  },
  {
   "cell_type": "code",
   "execution_count": null,
   "metadata": {},
   "outputs": [],
   "source": [
    "from os.path import join, dirname, abspath\n",
    "import xlrd\n",
    "\n",
    "from xlrd.sheet import ctype_text"
   ]
  },
  {
   "cell_type": "markdown",
   "metadata": {},
   "source": [
    "## API Reference"
   ]
  },
  {
   "cell_type": "code",
   "execution_count": null,
   "metadata": {},
   "outputs": [],
   "source": [
    "fn = \"../data/iris_short_2.xlsx\""
   ]
  },
  {
   "cell_type": "code",
   "execution_count": null,
   "metadata": {},
   "outputs": [],
   "source": [
    "# open the workbook\n",
    "wb = xlrd.open_workbook(filename=fn)"
   ]
  },
  {
   "cell_type": "code",
   "execution_count": null,
   "metadata": {},
   "outputs": [],
   "source": [
    "# dir(wb)"
   ]
  },
  {
   "cell_type": "code",
   "execution_count": null,
   "metadata": {},
   "outputs": [],
   "source": [
    "# number of sheets in workbook\n",
    "wb.nsheets"
   ]
  },
  {
   "cell_type": "code",
   "execution_count": null,
   "metadata": {},
   "outputs": [],
   "source": [
    "# list of sheet names\n",
    "sheet_names = wb.sheet_names()\n",
    "sheet_names"
   ]
  },
  {
   "cell_type": "code",
   "execution_count": null,
   "metadata": {},
   "outputs": [],
   "source": [
    "# pull a sheet by name\n",
    "ws = wb.sheet_by_name('Sheet1')"
   ]
  },
  {
   "cell_type": "code",
   "execution_count": null,
   "metadata": {},
   "outputs": [],
   "source": [
    "# pull the first sheet by index\n",
    "ws = wb.sheet_by_name(sheet_names[0])  # sheets are zero indexed\n",
    "print(f'Sheet Name: {ws.name}')"
   ]
  },
  {
   "cell_type": "code",
   "execution_count": null,
   "metadata": {},
   "outputs": [],
   "source": [
    "# num of rows in worksheet\n",
    "num_of_rows = ws.nrows\n",
    "\n",
    "# num of cols in worksheet\n",
    "num_of_cols = ws.ncols\n",
    "\n",
    "print(num_of_rows, num_of_cols)"
   ]
  },
  {
   "cell_type": "code",
   "execution_count": null,
   "metadata": {},
   "outputs": [],
   "source": [
    "# pull the row by index (rows/columns are also zero-indexed)\n",
    "row2 = ws.row(1)"
   ]
  },
  {
   "cell_type": "code",
   "execution_count": null,
   "metadata": {},
   "outputs": [],
   "source": [
    "# print first row values and types\n",
    "\n",
    "print('(Column) type: value')\n",
    "for i, cell_obj in enumerate(row2, 1):\n",
    "    cell_type_str = ctype_text.get(cell_obj.ctype, 'unknown type')\n",
    "    print(f'({i}) {cell_type_str}: {cell_obj.value}')"
   ]
  },
  {
   "cell_type": "code",
   "execution_count": null,
   "metadata": {
    "scrolled": true
   },
   "outputs": [],
   "source": [
    "# print all values, iterating through rows and columns\n",
    "\n",
    "# iterate through rows\n",
    "for row_idx in range(0, num_of_rows):  \n",
    "    print(f'Row: {row_idx}')  # print row num\n",
    "    \n",
    "    # iterate through cols\n",
    "    for col_idx in range(0, num_of_cols):  \n",
    "        cell_obj = ws.cell(row_idx, col_idx)  # get cell object by (row, col)\n",
    "        print(f'Column: {col_idx},  cell_obj: {cell_obj}')"
   ]
  },
  {
   "cell_type": "code",
   "execution_count": null,
   "metadata": {},
   "outputs": [],
   "source": [
    "d = {'A': 1, 'B': 2, 'C': 3}\n",
    "d['A']"
   ]
  },
  {
   "cell_type": "code",
   "execution_count": null,
   "metadata": {},
   "outputs": [],
   "source": [
    "def cell_contents(ws,row_idx): \n",
    "    result = []\n",
    "    for col_x in range(2, ws.ncols):\n",
    "        cell = ws.cell(row_idx, col_idx) \n",
    "        result.append((cell.ctype, cell, cell.value))\n",
    "    return result"
   ]
  },
  {
   "cell_type": "code",
   "execution_count": null,
   "metadata": {},
   "outputs": [],
   "source": [
    "cell_contents(ws, 3)"
   ]
  },
  {
   "cell_type": "code",
   "execution_count": null,
   "metadata": {
    "scrolled": true
   },
   "outputs": [],
   "source": [
    "d = {}\n",
    "\n",
    "# iterate through rows\n",
    "for row_idx in range(0, num_of_rows):  \n",
    "    print(f'Row: {row_idx}')  # print row num\n",
    "    \n",
    "    # iterate through cols\n",
    "    for col_idx in range(num_of_cols):\n",
    "        # cell_val\n",
    "        d[col_idx] = ws.cell(row_idx, col_idx).value  \n",
    "        \n",
    "    print(d)"
   ]
  },
  {
   "cell_type": "code",
   "execution_count": null,
   "metadata": {},
   "outputs": [],
   "source": []
  },
  {
   "cell_type": "code",
   "execution_count": null,
   "metadata": {},
   "outputs": [],
   "source": []
  }
 ],
 "metadata": {
  "kernelspec": {
   "display_name": "Python 3",
   "language": "python",
   "name": "python3"
  },
  "language_info": {
   "codemirror_mode": {
    "name": "ipython",
    "version": 3
   },
   "file_extension": ".py",
   "mimetype": "text/x-python",
   "name": "python",
   "nbconvert_exporter": "python",
   "pygments_lexer": "ipython3",
   "version": "3.7.6"
  }
 },
 "nbformat": 4,
 "nbformat_minor": 4
}
