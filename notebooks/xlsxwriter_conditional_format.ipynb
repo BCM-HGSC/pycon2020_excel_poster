{
 "cells": [
  {
   "cell_type": "markdown",
   "metadata": {},
   "source": [
    "## XlsxWriter - Write"
   ]
  },
  {
   "cell_type": "code",
   "execution_count": null,
   "metadata": {},
   "outputs": [],
   "source": [
    "import csv\n",
    "\n",
    "import xlsxwriter"
   ]
  },
  {
   "cell_type": "markdown",
   "metadata": {},
   "source": [
    "* Read CSV"
   ]
  },
  {
   "cell_type": "code",
   "execution_count": null,
   "metadata": {},
   "outputs": [],
   "source": [
    "fn = '../data/iris_short.csv'"
   ]
  },
  {
   "cell_type": "code",
   "execution_count": null,
   "metadata": {},
   "outputs": [],
   "source": [
    "# create simple data to inject into the xlwxwriter\n",
    "with open(fn, newline='') as csvfile:\n",
    "    all_rows = list(csv.reader(csvfile))"
   ]
  },
  {
   "cell_type": "code",
   "execution_count": null,
   "metadata": {},
   "outputs": [],
   "source": [
    "# fix str to float\n",
    "\n",
    "results = []\n",
    "for row in all_rows:\n",
    "    new_row = []\n",
    "    for col in row:\n",
    "        try:\n",
    "            value = float(col)\n",
    "        except ValueError:\n",
    "            value = col\n",
    "        new_row.append(value)\n",
    "    results.append(new_row)"
   ]
  },
  {
   "cell_type": "code",
   "execution_count": null,
   "metadata": {},
   "outputs": [],
   "source": [
    "results"
   ]
  },
  {
   "cell_type": "code",
   "execution_count": null,
   "metadata": {},
   "outputs": [],
   "source": [
    "# sample data to run the conditional formatting against\n",
    "data = [\n",
    "    ['sepal_length', 'sepal_width', 'petal_length', 'petal_width', 'species'],\n",
    "    [5.1, 3.5, 1.4, 0.2, 'setosa'],\n",
    "    [4.9, 3.0, 1.4, 0.2, 'setosa'],\n",
    "    [4.7, 3.2, 1.3, 0.2, 'setosa'],\n",
    "    [4.6, 3.1, 1.5, 0.2, 'setosa'],\n",
    "    [5.0, 3.6, 1.4, 0.2, 'setosa'],\n",
    "]"
   ]
  },
  {
   "cell_type": "code",
   "execution_count": null,
   "metadata": {},
   "outputs": [],
   "source": [
    "data"
   ]
  },
  {
   "cell_type": "markdown",
   "metadata": {},
   "source": [
    "### Example: Conditional Formatting\n",
    "\n",
    "* Example of how to add conditional formatting to an XlsxWriter file. \n",
    "* Conditional formatting allows you to apply a format to a cell or a range of cells based on certain criteria"
   ]
  },
  {
   "cell_type": "code",
   "execution_count": null,
   "metadata": {},
   "outputs": [],
   "source": [
    "fo = '../data/out/xlsxwriter_conditional_format_out.xlsx'\n",
    "\n",
    "workbook = xlsxwriter.Workbook(fo)\n",
    "worksheet1 = workbook.add_worksheet()"
   ]
  },
  {
   "cell_type": "code",
   "execution_count": null,
   "metadata": {},
   "outputs": [],
   "source": [
    "# add a format. Light red fill with dark red text.\n",
    "format1 = workbook.add_format({'bg_color': '#FFC7CE',\n",
    "                               'font_color': '#9C0006'})\n",
    "\n",
    "# add a format. Green fill with dark green text.\n",
    "format2 = workbook.add_format({'bg_color': '#C6EFCE',\n",
    "                               'font_color': '#006100'})"
   ]
  },
  {
   "cell_type": "code",
   "execution_count": null,
   "metadata": {},
   "outputs": [],
   "source": [
    "caption = ('Cells with values >= 5 are in light red. '\n",
    "           'Values < 5 are in light green.')\n",
    "\n",
    "# write the data\n",
    "worksheet1.write('A1', caption)"
   ]
  },
  {
   "cell_type": "code",
   "execution_count": null,
   "metadata": {},
   "outputs": [],
   "source": [
    "for row, row_data in enumerate(data):\n",
    "    # worksheet1.write_row(row + 2, 1, row_data)\n",
    "    worksheet1.write_row(row + 2, 0, row_data)"
   ]
  },
  {
   "cell_type": "code",
   "execution_count": null,
   "metadata": {},
   "outputs": [],
   "source": [
    "# write a conditional format over a range.\n",
    "worksheet1.conditional_format('A4:A8', {'type': 'cell',\n",
    "                                         'criteria': '>=',\n",
    "                                         'value': 5,\n",
    "                                         'format': format1})\n",
    "\n",
    "# write another conditional format over the same range.\n",
    "worksheet1.conditional_format('A3:A8', {'type': 'cell',\n",
    "                                         'criteria': '<',\n",
    "                                         'value': 5,\n",
    "                                         'format': format2})"
   ]
  },
  {
   "cell_type": "code",
   "execution_count": null,
   "metadata": {},
   "outputs": [],
   "source": [
    "workbook.close()"
   ]
  },
  {
   "cell_type": "code",
   "execution_count": null,
   "metadata": {},
   "outputs": [],
   "source": [
    "# !open ../data/out/xlsxwriter_conditional_format_out.xlsx"
   ]
  },
  {
   "cell_type": "code",
   "execution_count": null,
   "metadata": {},
   "outputs": [],
   "source": []
  }
 ],
 "metadata": {
  "kernelspec": {
   "display_name": "Python 3",
   "language": "python",
   "name": "python3"
  },
  "language_info": {
   "codemirror_mode": {
    "name": "ipython",
    "version": 3
   },
   "file_extension": ".py",
   "mimetype": "text/x-python",
   "name": "python",
   "nbconvert_exporter": "python",
   "pygments_lexer": "ipython3",
   "version": "3.7.6"
  }
 },
 "nbformat": 4,
 "nbformat_minor": 4
}
